{
 "cells": [
  {
   "cell_type": "markdown",
   "metadata": {},
   "source": [
    "# Gamma Scalping I: Theory"
   ]
  },
  {
   "cell_type": "markdown",
   "metadata": {},
   "source": [
    "Recently I came across this concept of \"Gamma Scalping\". Although I always claim that I know option pricing, I have to admit that I've never really thought about option strategies before. So since this was brought up, I decided to take a deeper look of this strategy."
   ]
  },
  {
   "cell_type": "markdown",
   "metadata": {},
   "source": [
    "The plan is to study this thing in 2 parts, theoretically and practically. For the theoretical part, I'll try to figure out how gamma scalping works with some fake scenarios. For the practical part, I'll find some real data to test this strategy's performance, which will come as a separate notebook."
   ]
  },
  {
   "cell_type": "markdown",
   "metadata": {},
   "source": [
    "### Theoretical Analysis"
   ]
  },
  {
   "cell_type": "code",
   "execution_count": 2,
   "metadata": {
    "collapsed": false
   },
   "outputs": [],
   "source": [
    "import pandas as pd\n",
    "import numpy as np\n",
    "import matplotlib.pyplot as plt\n",
    "%matplotlib inline\n",
    "import sys\n",
    "sys.path.append('D:\\\\Projects\\\\Derivative Pricing\\\\')"
   ]
  },
  {
   "cell_type": "markdown",
   "metadata": {},
   "source": [
    "Here I'm using the result of my other project, the derivative pricing system. It was initially developed to practice the OOP concept, but comes handy with option related utilities."
   ]
  },
  {
   "cell_type": "code",
   "execution_count": 3,
   "metadata": {
    "collapsed": false
   },
   "outputs": [],
   "source": [
    "import DataObj as DO\n",
    "import TradableObj as TO\n",
    "import OptionObj as options\n",
    "import MarketObj as MO\n",
    "import PayoffObj as PO\n",
    "import datetime"
   ]
  },
  {
   "cell_type": "markdown",
   "metadata": {},
   "source": [
    "I'm taking GS euqity data as the underlying, from 2017 up to 2018 August."
   ]
  },
  {
   "cell_type": "code",
   "execution_count": 4,
   "metadata": {
    "collapsed": false
   },
   "outputs": [
    {
     "name": "stdout",
     "output_type": "stream",
     "text": [
      "2y\n"
     ]
    }
   ],
   "source": [
    "io =  DO.myIO()\n",
    "data = io.read('GS', 'iex', start = datetime.datetime(2017,1,1), end = None)"
   ]
  },
  {
   "cell_type": "code",
   "execution_count": 5,
   "metadata": {
    "collapsed": false
   },
   "outputs": [
    {
     "data": {
      "text/html": [
       "<div>\n",
       "<style scoped>\n",
       "    .dataframe tbody tr th:only-of-type {\n",
       "        vertical-align: middle;\n",
       "    }\n",
       "\n",
       "    .dataframe tbody tr th {\n",
       "        vertical-align: top;\n",
       "    }\n",
       "\n",
       "    .dataframe thead th {\n",
       "        text-align: right;\n",
       "    }\n",
       "</style>\n",
       "<table border=\"1\" class=\"dataframe\">\n",
       "  <thead>\n",
       "    <tr style=\"text-align: right;\">\n",
       "      <th></th>\n",
       "      <th>open</th>\n",
       "      <th>high</th>\n",
       "      <th>low</th>\n",
       "      <th>close</th>\n",
       "      <th>volume</th>\n",
       "    </tr>\n",
       "    <tr>\n",
       "      <th>date</th>\n",
       "      <th></th>\n",
       "      <th></th>\n",
       "      <th></th>\n",
       "      <th></th>\n",
       "      <th></th>\n",
       "    </tr>\n",
       "  </thead>\n",
       "  <tbody>\n",
       "    <tr>\n",
       "      <th>2017-01-03</th>\n",
       "      <td>238.1675</td>\n",
       "      <td>240.3951</td>\n",
       "      <td>233.5258</td>\n",
       "      <td>237.0586</td>\n",
       "      <td>4384246</td>\n",
       "    </tr>\n",
       "    <tr>\n",
       "      <th>2017-01-04</th>\n",
       "      <td>236.9310</td>\n",
       "      <td>238.7759</td>\n",
       "      <td>235.5474</td>\n",
       "      <td>238.5895</td>\n",
       "      <td>2728709</td>\n",
       "    </tr>\n",
       "    <tr>\n",
       "      <th>2017-01-05</th>\n",
       "      <td>238.1871</td>\n",
       "      <td>238.6900</td>\n",
       "      <td>232.3581</td>\n",
       "      <td>236.8133</td>\n",
       "      <td>3562618</td>\n",
       "    </tr>\n",
       "    <tr>\n",
       "      <th>2017-01-06</th>\n",
       "      <td>237.7652</td>\n",
       "      <td>241.6021</td>\n",
       "      <td>236.8623</td>\n",
       "      <td>240.3264</td>\n",
       "      <td>3591079</td>\n",
       "    </tr>\n",
       "    <tr>\n",
       "      <th>2017-01-09</th>\n",
       "      <td>238.7072</td>\n",
       "      <td>240.1203</td>\n",
       "      <td>236.9605</td>\n",
       "      <td>238.3539</td>\n",
       "      <td>3022766</td>\n",
       "    </tr>\n",
       "  </tbody>\n",
       "</table>\n",
       "</div>"
      ],
      "text/plain": [
       "                open      high       low     close   volume\n",
       "date                                                       \n",
       "2017-01-03  238.1675  240.3951  233.5258  237.0586  4384246\n",
       "2017-01-04  236.9310  238.7759  235.5474  238.5895  2728709\n",
       "2017-01-05  238.1871  238.6900  232.3581  236.8133  3562618\n",
       "2017-01-06  237.7652  241.6021  236.8623  240.3264  3591079\n",
       "2017-01-09  238.7072  240.1203  236.9605  238.3539  3022766"
      ]
     },
     "execution_count": 5,
     "metadata": {},
     "output_type": "execute_result"
    }
   ],
   "source": [
    "data.head()"
   ]
  },
  {
   "cell_type": "code",
   "execution_count": 6,
   "metadata": {
    "collapsed": false
   },
   "outputs": [
    {
     "data": {
      "text/plain": [
       "<matplotlib.axes._subplots.AxesSubplot at 0x1b868c833c8>"
      ]
     },
     "execution_count": 6,
     "metadata": {},
     "output_type": "execute_result"
    },
    {
     "data": {
      "image/png": "[encoded data removed]",
      "text/plain": [
       "<Figure size 600x400 with 1 Axes>"
      ]
     },
     "metadata": {},
     "output_type": "display_data"
    }
   ],
   "source": [
    "data.close.plot()"
   ]
  },
  {
   "cell_type": "code",
   "execution_count": 7,
   "metadata": {
    "collapsed": false
   },
   "outputs": [
    {
     "name": "stdout",
     "output_type": "stream",
     "text": [
      "Market data for GS has been added!\n"
     ]
    }
   ],
   "source": [
    "# A market object contains information that we get from the market.\n",
    "# i.e. stock price, interest rate, implied volatility.\n",
    "market = MO.myMarket()\n",
    "market.save_data(data[['close']], 'GS')"
   ]
  },
  {
   "cell_type": "code",
   "execution_count": 8,
   "metadata": {
    "collapsed": false
   },
   "outputs": [
    {
     "name": "stdout",
     "output_type": "stream",
     "text": [
      "Market data for DOM_IR has been added!\n",
      "Market data for GS_IV has been added!\n",
      "Market data for GS_DIV has been added!\n"
     ]
    }
   ],
   "source": [
    "# Here I'm assuming constant interest rate, dividend and implied volatility.\n",
    "# This will be relaxed later.\n",
    "ir = lambda x: 0.01\n",
    "iv = lambda x: 0.20\n",
    "iq = lambda x: 0.0\n",
    "interest_rate = {}\n",
    "implied_vol = {}\n",
    "dividend = {}\n",
    "for t in data.index:\n",
    "    t = pd.Timestamp(t)\n",
    "    interest_rate[t] = ir\n",
    "    implied_vol[t] = iv\n",
    "    dividend[t] = iq\n",
    "market.save_data(interest_rate, 'DOM_IR')\n",
    "market.save_data(implied_vol, 'GS_IV')\n",
    "market.save_data(dividend, 'GS_DIV')"
   ]
  },
  {
   "cell_type": "code",
   "execution_count": 9,
   "metadata": {
    "collapsed": true
   },
   "outputs": [],
   "source": [
    "# Make a stock with GS data\n",
    "Stock = TO.equity('GS', market)"
   ]
  },
  {
   "cell_type": "markdown",
   "metadata": {},
   "source": [
    "My option data will be a really simple European option, and the contract object contains trade specific informaiton:\n",
    "i.e. expiration, strike, call put type, etc."
   ]
  },
  {
   "cell_type": "code",
   "execution_count": 10,
   "metadata": {
    "collapsed": false
   },
   "outputs": [],
   "source": [
    "Contract = PO.payoff(250, datetime.datetime(2018,10,1), True)"
   ]
  },
  {
   "cell_type": "code",
   "execution_count": 11,
   "metadata": {
    "collapsed": true
   },
   "outputs": [],
   "source": [
    "Option = options.European_Option('O_GS_C_20181001_250', Stock, Contract, market)"
   ]
  },
  {
   "cell_type": "markdown",
   "metadata": {},
   "source": [
    "Test the utilities a little bit, see if we can price, and see if the pricing makes sense."
   ]
  },
  {
   "cell_type": "code",
   "execution_count": 12,
   "metadata": {
    "collapsed": false
   },
   "outputs": [
    {
     "name": "stdout",
     "output_type": "stream",
     "text": [
      "[254.8807]\n",
      "[21.05168627]\n",
      "[0.59547224]\n",
      "[0.00872509]\n",
      "[-12.64359332]\n",
      "[99.20599083]\n",
      "[86.03215019]\n"
     ]
    }
   ],
   "source": [
    "date = '2017-12-28'\n",
    "print(Stock.spot(date))\n",
    "print(Option.dollar_price(date))\n",
    "print(Option.delta(date))\n",
    "print(Option.gamma(date))\n",
    "print(Option.theta(date))\n",
    "print(Option.rho(date))\n",
    "print(Option.vega(date))"
   ]
  },
  {
   "cell_type": "markdown",
   "metadata": {},
   "source": [
    "#### Now let's go into the main part of this study, explaining gamma scalping."
   ]
  },
  {
   "cell_type": "code",
   "execution_count": 13,
   "metadata": {
    "collapsed": true
   },
   "outputs": [],
   "source": [
    "# Strategy has the gamma scalping PNL. At day 0 we assume 0 initial investment, use cash to finance the option and hedge.\n",
    "Strategy = pd.DataFrame(np.NaN, index = data.index, \n",
    "                        columns = ['Option', 'Stock', 'Cash', 'Portfolio'])"
   ]
  },
  {
   "cell_type": "code",
   "execution_count": 14,
   "metadata": {
    "collapsed": false
   },
   "outputs": [],
   "source": [
    "Greeks = pd.DataFrame(np.NaN, index = data.index, \n",
    "                      columns = ['Price', 'Delta', 'Gamma','Theta'])\n",
    "for i, date_idx in enumerate(Greeks.index):\n",
    "    Greeks.iloc[i,:].Price = Option.dollar_price(date_idx)\n",
    "    Greeks.iloc[i,:].Delta = Option.delta(date_idx)\n",
    "    Greeks.iloc[i,:].Gamma = Option.gamma(date_idx)\n",
    "    Greeks.iloc[i,:].Theta = Option.theta(date_idx)"
   ]
  },
  {
   "cell_type": "code",
   "execution_count": 15,
   "metadata": {
    "collapsed": false
   },
   "outputs": [
    {
     "data": {
      "text/html": [
       "<div>\n",
       "<style scoped>\n",
       "    .dataframe tbody tr th:only-of-type {\n",
       "        vertical-align: middle;\n",
       "    }\n",
       "\n",
       "    .dataframe tbody tr th {\n",
       "        vertical-align: top;\n",
       "    }\n",
       "\n",
       "    .dataframe thead th {\n",
       "        text-align: right;\n",
       "    }\n",
       "</style>\n",
       "<table border=\"1\" class=\"dataframe\">\n",
       "  <thead>\n",
       "    <tr style=\"text-align: right;\">\n",
       "      <th></th>\n",
       "      <th>Price</th>\n",
       "      <th>Delta</th>\n",
       "      <th>Gamma</th>\n",
       "      <th>Theta</th>\n",
       "    </tr>\n",
       "    <tr>\n",
       "      <th>date</th>\n",
       "      <th></th>\n",
       "      <th></th>\n",
       "      <th></th>\n",
       "      <th></th>\n",
       "    </tr>\n",
       "  </thead>\n",
       "  <tbody>\n",
       "    <tr>\n",
       "      <th>2017-01-03</th>\n",
       "      <td>21.267044</td>\n",
       "      <td>0.498671</td>\n",
       "      <td>0.006374</td>\n",
       "      <td>-8.133895</td>\n",
       "    </tr>\n",
       "    <tr>\n",
       "      <th>2017-01-04</th>\n",
       "      <td>22.015434</td>\n",
       "      <td>0.508280</td>\n",
       "      <td>0.006337</td>\n",
       "      <td>-8.207400</td>\n",
       "    </tr>\n",
       "    <tr>\n",
       "      <th>2017-01-05</th>\n",
       "      <td>21.100374</td>\n",
       "      <td>0.496853</td>\n",
       "      <td>0.006391</td>\n",
       "      <td>-8.133717</td>\n",
       "    </tr>\n",
       "    <tr>\n",
       "      <th>2017-01-06</th>\n",
       "      <td>22.862402</td>\n",
       "      <td>0.519024</td>\n",
       "      <td>0.006295</td>\n",
       "      <td>-8.290863</td>\n",
       "    </tr>\n",
       "    <tr>\n",
       "      <th>2017-01-09</th>\n",
       "      <td>21.783375</td>\n",
       "      <td>0.506189</td>\n",
       "      <td>0.006369</td>\n",
       "      <td>-8.225648</td>\n",
       "    </tr>\n",
       "  </tbody>\n",
       "</table>\n",
       "</div>"
      ],
      "text/plain": [
       "                Price     Delta     Gamma     Theta\n",
       "date                                               \n",
       "2017-01-03  21.267044  0.498671  0.006374 -8.133895\n",
       "2017-01-04  22.015434  0.508280  0.006337 -8.207400\n",
       "2017-01-05  21.100374  0.496853  0.006391 -8.133717\n",
       "2017-01-06  22.862402  0.519024  0.006295 -8.290863\n",
       "2017-01-09  21.783375  0.506189  0.006369 -8.225648"
      ]
     },
     "execution_count": 15,
     "metadata": {},
     "output_type": "execute_result"
    }
   ],
   "source": [
    "Greeks.head()"
   ]
  },
  {
   "cell_type": "code",
   "execution_count": 16,
   "metadata": {
    "collapsed": false
   },
   "outputs": [
    {
     "data": {
      "text/html": [
       "<div>\n",
       "<style scoped>\n",
       "    .dataframe tbody tr th:only-of-type {\n",
       "        vertical-align: middle;\n",
       "    }\n",
       "\n",
       "    .dataframe tbody tr th {\n",
       "        vertical-align: top;\n",
       "    }\n",
       "\n",
       "    .dataframe thead th {\n",
       "        text-align: right;\n",
       "    }\n",
       "</style>\n",
       "<table border=\"1\" class=\"dataframe\">\n",
       "  <thead>\n",
       "    <tr style=\"text-align: right;\">\n",
       "      <th></th>\n",
       "      <th>Price</th>\n",
       "      <th>Delta</th>\n",
       "      <th>Gamma</th>\n",
       "      <th>Theta</th>\n",
       "    </tr>\n",
       "    <tr>\n",
       "      <th>date</th>\n",
       "      <th></th>\n",
       "      <th></th>\n",
       "      <th></th>\n",
       "      <th></th>\n",
       "    </tr>\n",
       "  </thead>\n",
       "  <tbody>\n",
       "    <tr>\n",
       "      <th>2018-08-13</th>\n",
       "      <td>0.781676</td>\n",
       "      <td>0.101956</td>\n",
       "      <td>0.010707</td>\n",
       "      <td>-11.244230</td>\n",
       "    </tr>\n",
       "    <tr>\n",
       "      <th>2018-08-14</th>\n",
       "      <td>1.060778</td>\n",
       "      <td>0.131004</td>\n",
       "      <td>0.012774</td>\n",
       "      <td>-13.752939</td>\n",
       "    </tr>\n",
       "    <tr>\n",
       "      <th>2018-08-15</th>\n",
       "      <td>0.984030</td>\n",
       "      <td>0.124352</td>\n",
       "      <td>0.012466</td>\n",
       "      <td>-13.378769</td>\n",
       "    </tr>\n",
       "    <tr>\n",
       "      <th>2018-08-16</th>\n",
       "      <td>1.497959</td>\n",
       "      <td>0.173967</td>\n",
       "      <td>0.015523</td>\n",
       "      <td>-17.245448</td>\n",
       "    </tr>\n",
       "    <tr>\n",
       "      <th>2018-08-17</th>\n",
       "      <td>1.516832</td>\n",
       "      <td>0.176978</td>\n",
       "      <td>0.015841</td>\n",
       "      <td>-17.653700</td>\n",
       "    </tr>\n",
       "  </tbody>\n",
       "</table>\n",
       "</div>"
      ],
      "text/plain": [
       "               Price     Delta     Gamma      Theta\n",
       "date                                               \n",
       "2018-08-13  0.781676  0.101956  0.010707 -11.244230\n",
       "2018-08-14  1.060778  0.131004  0.012774 -13.752939\n",
       "2018-08-15  0.984030  0.124352  0.012466 -13.378769\n",
       "2018-08-16  1.497959  0.173967  0.015523 -17.245448\n",
       "2018-08-17  1.516832  0.176978  0.015841 -17.653700"
      ]
     },
     "execution_count": 16,
     "metadata": {},
     "output_type": "execute_result"
    }
   ],
   "source": [
    "Greeks.tail()"
   ]
  },
  {
   "cell_type": "code",
   "execution_count": 17,
   "metadata": {
    "collapsed": false
   },
   "outputs": [],
   "source": [
    "for i, date_idx in enumerate(Strategy.index):\n",
    "    \"\"\"\n",
    "    We maintain 1 unit long call, and apply dynamic hedging of delta for each day.\n",
    "    Assume on day 1 we have a 0 worth portfolio, financing any trade with cash.\n",
    "    \"\"\"\n",
    "    Strategy.iloc[i,:].Option = Greeks.loc[date_idx, 'Price']\n",
    "    hedge = - Greeks.loc[date_idx, 'Delta']\n",
    "    Strategy.iloc[i,:].Stock = hedge * Stock.spot(date_idx)\n",
    "    if i == 0:\n",
    "        Strategy.iloc[i,:].Cash = 0 - Strategy.iloc[i,:].Option - Strategy.iloc[i,:].Stock\n",
    "    else:\n",
    "        Strategy.iloc[i,:].Cash = Strategy.iloc[i-1,:].Cash - (hedge - (-Greeks.iloc[i-1,:].Delta)) * Stock.spot(date_idx)\n",
    "    Strategy.iloc[i,-1] = sum(Strategy.iloc[i,:-1])"
   ]
  },
  {
   "cell_type": "code",
   "execution_count": 18,
   "metadata": {
    "collapsed": false
   },
   "outputs": [
    {
     "data": {
      "text/html": [
       "<div>\n",
       "<style scoped>\n",
       "    .dataframe tbody tr th:only-of-type {\n",
       "        vertical-align: middle;\n",
       "    }\n",
       "\n",
       "    .dataframe tbody tr th {\n",
       "        vertical-align: top;\n",
       "    }\n",
       "\n",
       "    .dataframe thead th {\n",
       "        text-align: right;\n",
       "    }\n",
       "</style>\n",
       "<table border=\"1\" class=\"dataframe\">\n",
       "  <thead>\n",
       "    <tr style=\"text-align: right;\">\n",
       "      <th></th>\n",
       "      <th>Option</th>\n",
       "      <th>Stock</th>\n",
       "      <th>Cash</th>\n",
       "      <th>Portfolio</th>\n",
       "    </tr>\n",
       "    <tr>\n",
       "      <th>date</th>\n",
       "      <th></th>\n",
       "      <th></th>\n",
       "      <th></th>\n",
       "      <th></th>\n",
       "    </tr>\n",
       "  </thead>\n",
       "  <tbody>\n",
       "    <tr>\n",
       "      <th>2017-01-03</th>\n",
       "      <td>21.267044</td>\n",
       "      <td>-118.214216</td>\n",
       "      <td>96.947172</td>\n",
       "      <td>0.000000</td>\n",
       "    </tr>\n",
       "    <tr>\n",
       "      <th>2017-01-04</th>\n",
       "      <td>22.015434</td>\n",
       "      <td>-121.270231</td>\n",
       "      <td>99.239772</td>\n",
       "      <td>-0.015025</td>\n",
       "    </tr>\n",
       "    <tr>\n",
       "      <th>2017-01-05</th>\n",
       "      <td>21.100374</td>\n",
       "      <td>-117.661416</td>\n",
       "      <td>96.533763</td>\n",
       "      <td>-0.027279</td>\n",
       "    </tr>\n",
       "    <tr>\n",
       "      <th>2017-01-06</th>\n",
       "      <td>22.862402</td>\n",
       "      <td>-124.735197</td>\n",
       "      <td>101.862050</td>\n",
       "      <td>-0.010746</td>\n",
       "    </tr>\n",
       "    <tr>\n",
       "      <th>2017-01-09</th>\n",
       "      <td>21.783375</td>\n",
       "      <td>-120.652123</td>\n",
       "      <td>98.802751</td>\n",
       "      <td>-0.065997</td>\n",
       "    </tr>\n",
       "  </tbody>\n",
       "</table>\n",
       "</div>"
      ],
      "text/plain": [
       "               Option       Stock        Cash  Portfolio\n",
       "date                                                    \n",
       "2017-01-03  21.267044 -118.214216   96.947172   0.000000\n",
       "2017-01-04  22.015434 -121.270231   99.239772  -0.015025\n",
       "2017-01-05  21.100374 -117.661416   96.533763  -0.027279\n",
       "2017-01-06  22.862402 -124.735197  101.862050  -0.010746\n",
       "2017-01-09  21.783375 -120.652123   98.802751  -0.065997"
      ]
     },
     "execution_count": 18,
     "metadata": {},
     "output_type": "execute_result"
    }
   ],
   "source": [
    "Strategy.head()"
   ]
  },
  {
   "cell_type": "markdown",
   "metadata": {},
   "source": [
    "Now we can see the delta hedged portfolio's PNL. As expected, the strategy is not super profitable, for most of the time, it is even losing money, but it does have a couple of spikes. "
   ]
  },
  {
   "cell_type": "code",
   "execution_count": 19,
   "metadata": {
    "collapsed": false
   },
   "outputs": [
    {
     "data": {
      "text/plain": [
       "<matplotlib.axes._subplots.AxesSubplot at 0x1b86ad0db70>"
      ]
     },
     "execution_count": 19,
     "metadata": {},
     "output_type": "execute_result"
    },
    {
     "data": {
      "image/png": "[encoded data removed]",
      "text/plain": [
       "<Figure size 600x400 with 1 Axes>"
      ]
     },
     "metadata": {},
     "output_type": "display_data"
    }
   ],
   "source": [
    "Strategy.Portfolio.plot()"
   ]
  },
  {
   "cell_type": "markdown",
   "metadata": {},
   "source": [
    "For these days we have > 0.1 profit for the strategy."
   ]
  },
  {
   "cell_type": "code",
   "execution_count": 20,
   "metadata": {
    "collapsed": false
   },
   "outputs": [
    {
     "data": {
      "text/html": [
       "<div>\n",
       "<style scoped>\n",
       "    .dataframe tbody tr th:only-of-type {\n",
       "        vertical-align: middle;\n",
       "    }\n",
       "\n",
       "    .dataframe tbody tr th {\n",
       "        vertical-align: top;\n",
       "    }\n",
       "\n",
       "    .dataframe thead th {\n",
       "        text-align: right;\n",
       "    }\n",
       "</style>\n",
       "<table border=\"1\" class=\"dataframe\">\n",
       "  <thead>\n",
       "    <tr style=\"text-align: right;\">\n",
       "      <th></th>\n",
       "      <th>Option</th>\n",
       "      <th>Stock</th>\n",
       "      <th>Cash</th>\n",
       "      <th>Portfolio</th>\n",
       "    </tr>\n",
       "    <tr>\n",
       "      <th>date</th>\n",
       "      <th></th>\n",
       "      <th></th>\n",
       "      <th></th>\n",
       "      <th></th>\n",
       "    </tr>\n",
       "  </thead>\n",
       "  <tbody>\n",
       "    <tr>\n",
       "      <th>2017-01-17</th>\n",
       "      <td>18.216993</td>\n",
       "      <td>-106.331406</td>\n",
       "      <td>88.140961</td>\n",
       "      <td>0.026548</td>\n",
       "    </tr>\n",
       "    <tr>\n",
       "      <th>2017-02-03</th>\n",
       "      <td>20.268982</td>\n",
       "      <td>-116.028236</td>\n",
       "      <td>95.999441</td>\n",
       "      <td>0.240187</td>\n",
       "    </tr>\n",
       "    <tr>\n",
       "      <th>2017-03-21</th>\n",
       "      <td>15.897022</td>\n",
       "      <td>-99.644876</td>\n",
       "      <td>83.562763</td>\n",
       "      <td>-0.185092</td>\n",
       "    </tr>\n",
       "    <tr>\n",
       "      <th>2017-04-18</th>\n",
       "      <td>8.954567</td>\n",
       "      <td>-65.425827</td>\n",
       "      <td>56.335704</td>\n",
       "      <td>-0.135556</td>\n",
       "    </tr>\n",
       "    <tr>\n",
       "      <th>2017-05-17</th>\n",
       "      <td>7.874480</td>\n",
       "      <td>-60.374400</td>\n",
       "      <td>52.570886</td>\n",
       "      <td>0.070966</td>\n",
       "    </tr>\n",
       "    <tr>\n",
       "      <th>2017-05-31</th>\n",
       "      <td>7.143155</td>\n",
       "      <td>-56.481481</td>\n",
       "      <td>49.503806</td>\n",
       "      <td>0.165480</td>\n",
       "    </tr>\n",
       "    <tr>\n",
       "      <th>2017-07-18</th>\n",
       "      <td>9.824589</td>\n",
       "      <td>-75.305540</td>\n",
       "      <td>65.391745</td>\n",
       "      <td>-0.089206</td>\n",
       "    </tr>\n",
       "    <tr>\n",
       "      <th>2017-08-04</th>\n",
       "      <td>11.758196</td>\n",
       "      <td>-87.554856</td>\n",
       "      <td>75.599211</td>\n",
       "      <td>-0.197449</td>\n",
       "    </tr>\n",
       "    <tr>\n",
       "      <th>2017-09-05</th>\n",
       "      <td>7.278326</td>\n",
       "      <td>-62.290483</td>\n",
       "      <td>54.738354</td>\n",
       "      <td>-0.273804</td>\n",
       "    </tr>\n",
       "    <tr>\n",
       "      <th>2017-10-05</th>\n",
       "      <td>17.618583</td>\n",
       "      <td>-123.979576</td>\n",
       "      <td>105.882176</td>\n",
       "      <td>-0.478817</td>\n",
       "    </tr>\n",
       "    <tr>\n",
       "      <th>2017-10-17</th>\n",
       "      <td>12.667104</td>\n",
       "      <td>-98.901225</td>\n",
       "      <td>85.712394</td>\n",
       "      <td>-0.521727</td>\n",
       "    </tr>\n",
       "    <tr>\n",
       "      <th>2017-10-18</th>\n",
       "      <td>15.273961</td>\n",
       "      <td>-113.381105</td>\n",
       "      <td>97.703932</td>\n",
       "      <td>-0.403212</td>\n",
       "    </tr>\n",
       "    <tr>\n",
       "      <th>2017-11-30</th>\n",
       "      <td>17.083473</td>\n",
       "      <td>-128.003357</td>\n",
       "      <td>109.964091</td>\n",
       "      <td>-0.955793</td>\n",
       "    </tr>\n",
       "    <tr>\n",
       "      <th>2017-12-12</th>\n",
       "      <td>22.303101</td>\n",
       "      <td>-155.069463</td>\n",
       "      <td>131.773345</td>\n",
       "      <td>-0.993017</td>\n",
       "    </tr>\n",
       "    <tr>\n",
       "      <th>2017-12-21</th>\n",
       "      <td>24.047121</td>\n",
       "      <td>-164.264061</td>\n",
       "      <td>139.185093</td>\n",
       "      <td>-1.031847</td>\n",
       "    </tr>\n",
       "    <tr>\n",
       "      <th>2018-02-02</th>\n",
       "      <td>21.915786</td>\n",
       "      <td>-162.140964</td>\n",
       "      <td>139.300767</td>\n",
       "      <td>-0.924411</td>\n",
       "    </tr>\n",
       "    <tr>\n",
       "      <th>2018-02-05</th>\n",
       "      <td>15.542806</td>\n",
       "      <td>-129.673201</td>\n",
       "      <td>113.648114</td>\n",
       "      <td>-0.482280</td>\n",
       "    </tr>\n",
       "    <tr>\n",
       "      <th>2018-02-06</th>\n",
       "      <td>20.940252</td>\n",
       "      <td>-158.239531</td>\n",
       "      <td>137.222385</td>\n",
       "      <td>-0.076894</td>\n",
       "    </tr>\n",
       "    <tr>\n",
       "      <th>2018-02-08</th>\n",
       "      <td>14.035241</td>\n",
       "      <td>-121.347346</td>\n",
       "      <td>107.726477</td>\n",
       "      <td>0.414372</td>\n",
       "    </tr>\n",
       "    <tr>\n",
       "      <th>2018-02-14</th>\n",
       "      <td>23.084043</td>\n",
       "      <td>-169.930188</td>\n",
       "      <td>147.411755</td>\n",
       "      <td>0.565609</td>\n",
       "    </tr>\n",
       "    <tr>\n",
       "      <th>2018-03-01</th>\n",
       "      <td>19.337985</td>\n",
       "      <td>-154.826683</td>\n",
       "      <td>136.173605</td>\n",
       "      <td>0.684908</td>\n",
       "    </tr>\n",
       "    <tr>\n",
       "      <th>2018-03-22</th>\n",
       "      <td>16.067613</td>\n",
       "      <td>-141.450901</td>\n",
       "      <td>126.321297</td>\n",
       "      <td>0.938009</td>\n",
       "    </tr>\n",
       "    <tr>\n",
       "      <th>2018-03-23</th>\n",
       "      <td>12.210634</td>\n",
       "      <td>-117.567461</td>\n",
       "      <td>106.548090</td>\n",
       "      <td>1.191263</td>\n",
       "    </tr>\n",
       "    <tr>\n",
       "      <th>2018-03-26</th>\n",
       "      <td>17.207666</td>\n",
       "      <td>-148.879612</td>\n",
       "      <td>133.248812</td>\n",
       "      <td>1.576866</td>\n",
       "    </tr>\n",
       "    <tr>\n",
       "      <th>2018-03-27</th>\n",
       "      <td>13.030208</td>\n",
       "      <td>-123.811705</td>\n",
       "      <td>112.631845</td>\n",
       "      <td>1.850348</td>\n",
       "    </tr>\n",
       "    <tr>\n",
       "      <th>2018-04-06</th>\n",
       "      <td>14.012423</td>\n",
       "      <td>-132.348631</td>\n",
       "      <td>120.268907</td>\n",
       "      <td>1.932699</td>\n",
       "    </tr>\n",
       "    <tr>\n",
       "      <th>2018-04-12</th>\n",
       "      <td>19.363372</td>\n",
       "      <td>-164.871402</td>\n",
       "      <td>147.635378</td>\n",
       "      <td>2.127348</td>\n",
       "    </tr>\n",
       "    <tr>\n",
       "      <th>2018-05-29</th>\n",
       "      <td>3.195870</td>\n",
       "      <td>-50.196954</td>\n",
       "      <td>48.547358</td>\n",
       "      <td>1.546274</td>\n",
       "    </tr>\n",
       "  </tbody>\n",
       "</table>\n",
       "</div>"
      ],
      "text/plain": [
       "               Option       Stock        Cash  Portfolio\n",
       "date                                                    \n",
       "2017-01-17  18.216993 -106.331406   88.140961   0.026548\n",
       "2017-02-03  20.268982 -116.028236   95.999441   0.240187\n",
       "2017-03-21  15.897022  -99.644876   83.562763  -0.185092\n",
       "2017-04-18   8.954567  -65.425827   56.335704  -0.135556\n",
       "2017-05-17   7.874480  -60.374400   52.570886   0.070966\n",
       "2017-05-31   7.143155  -56.481481   49.503806   0.165480\n",
       "2017-07-18   9.824589  -75.305540   65.391745  -0.089206\n",
       "2017-08-04  11.758196  -87.554856   75.599211  -0.197449\n",
       "2017-09-05   7.278326  -62.290483   54.738354  -0.273804\n",
       "2017-10-05  17.618583 -123.979576  105.882176  -0.478817\n",
       "2017-10-17  12.667104  -98.901225   85.712394  -0.521727\n",
       "2017-10-18  15.273961 -113.381105   97.703932  -0.403212\n",
       "2017-11-30  17.083473 -128.003357  109.964091  -0.955793\n",
       "2017-12-12  22.303101 -155.069463  131.773345  -0.993017\n",
       "2017-12-21  24.047121 -164.264061  139.185093  -1.031847\n",
       "2018-02-02  21.915786 -162.140964  139.300767  -0.924411\n",
       "2018-02-05  15.542806 -129.673201  113.648114  -0.482280\n",
       "2018-02-06  20.940252 -158.239531  137.222385  -0.076894\n",
       "2018-02-08  14.035241 -121.347346  107.726477   0.414372\n",
       "2018-02-14  23.084043 -169.930188  147.411755   0.565609\n",
       "2018-03-01  19.337985 -154.826683  136.173605   0.684908\n",
       "2018-03-22  16.067613 -141.450901  126.321297   0.938009\n",
       "2018-03-23  12.210634 -117.567461  106.548090   1.191263\n",
       "2018-03-26  17.207666 -148.879612  133.248812   1.576866\n",
       "2018-03-27  13.030208 -123.811705  112.631845   1.850348\n",
       "2018-04-06  14.012423 -132.348631  120.268907   1.932699\n",
       "2018-04-12  19.363372 -164.871402  147.635378   2.127348\n",
       "2018-05-29   3.195870  -50.196954   48.547358   1.546274"
      ]
     },
     "execution_count": 20,
     "metadata": {},
     "output_type": "execute_result"
    }
   ],
   "source": [
    "Strategy.loc[Strategy.Portfolio.diff()>0.1,]"
   ]
  },
  {
   "cell_type": "markdown",
   "metadata": {},
   "source": [
    "Here we analyze why we lost money for most of the days, and what are the characteristics are the days that we made money. We initialize an \"Others\" dataframe to record the model implied option price change and real option price change. Specifically, we'll focus on Delta, Gamma, Theta and ignore Rho and Vega, since we are holding them for constant."
   ]
  },
  {
   "cell_type": "code",
   "execution_count": 21,
   "metadata": {
    "collapsed": false
   },
   "outputs": [],
   "source": [
    "Others = pd.DataFrame(np.NaN, index = data.index, \n",
    "      columns = ['Stock_Price_Change', 'Option_Price_Change','Delta_Con', 'Gamma_Con','Theta_Con', 'After_hedge']\n",
    ")\n",
    "for i, date_idx in enumerate(Others.index):\n",
    "    if i == 0: continue\n",
    "    Others.iloc[i,:].Stock_Price_Change = Stock.spot(date_idx) - Stock.spot(Others.index[i-1])\n",
    "    Others.iloc[i,:].Option_Price_Change = Greeks.loc[date_idx, 'Price'] - Greeks.loc[Greeks.index[i-1], 'Price']\n",
    "    Others.iloc[i,:].Delta_Con = Greeks.loc[Greeks.index[i-1], 'Delta'] * Others.iloc[i,:].Stock_Price_Change\n",
    "    Others.iloc[i,:].Gamma_Con = Greeks.loc[Greeks.index[i-1], 'Gamma'] * \\\n",
    "                    Others.iloc[i,:].Stock_Price_Change **2 / 2\n",
    "    Others.iloc[i,:].Theta_Con = Greeks.loc[Greeks.index[i-1], 'Theta'] * \\\n",
    "                    ((pd.Timestamp(date_idx) - pd.Timestamp(Others.index[i-1]))/datetime.timedelta(days = 365))\n",
    "    Others.iloc[i,-1] = sum(Others.iloc[i,3:5])"
   ]
  },
  {
   "cell_type": "code",
   "execution_count": 22,
   "metadata": {
    "collapsed": false
   },
   "outputs": [
    {
     "data": {
      "text/html": [
       "<div>\n",
       "<style scoped>\n",
       "    .dataframe tbody tr th:only-of-type {\n",
       "        vertical-align: middle;\n",
       "    }\n",
       "\n",
       "    .dataframe tbody tr th {\n",
       "        vertical-align: top;\n",
       "    }\n",
       "\n",
       "    .dataframe thead th {\n",
       "        text-align: right;\n",
       "    }\n",
       "</style>\n",
       "<table border=\"1\" class=\"dataframe\">\n",
       "  <thead>\n",
       "    <tr style=\"text-align: right;\">\n",
       "      <th></th>\n",
       "      <th>Stock_Price_Change</th>\n",
       "      <th>Option_Price_Change</th>\n",
       "      <th>Delta_Con</th>\n",
       "      <th>Gamma_Con</th>\n",
       "      <th>Theta_Con</th>\n",
       "      <th>After_hedge</th>\n",
       "    </tr>\n",
       "    <tr>\n",
       "      <th>date</th>\n",
       "      <th></th>\n",
       "      <th></th>\n",
       "      <th></th>\n",
       "      <th></th>\n",
       "      <th></th>\n",
       "      <th></th>\n",
       "    </tr>\n",
       "  </thead>\n",
       "  <tbody>\n",
       "    <tr>\n",
       "      <th>2017-01-03</th>\n",
       "      <td>NaN</td>\n",
       "      <td>NaN</td>\n",
       "      <td>NaN</td>\n",
       "      <td>NaN</td>\n",
       "      <td>NaN</td>\n",
       "      <td>NaN</td>\n",
       "    </tr>\n",
       "    <tr>\n",
       "      <th>2017-01-04</th>\n",
       "      <td>1.5309</td>\n",
       "      <td>0.748390</td>\n",
       "      <td>0.763415</td>\n",
       "      <td>0.007470</td>\n",
       "      <td>-0.022285</td>\n",
       "      <td>-0.014815</td>\n",
       "    </tr>\n",
       "    <tr>\n",
       "      <th>2017-01-05</th>\n",
       "      <td>-1.7762</td>\n",
       "      <td>-0.915060</td>\n",
       "      <td>-0.902807</td>\n",
       "      <td>0.009997</td>\n",
       "      <td>-0.022486</td>\n",
       "      <td>-0.012490</td>\n",
       "    </tr>\n",
       "    <tr>\n",
       "      <th>2017-01-06</th>\n",
       "      <td>3.5131</td>\n",
       "      <td>1.762028</td>\n",
       "      <td>1.745495</td>\n",
       "      <td>0.039438</td>\n",
       "      <td>-0.022284</td>\n",
       "      <td>0.017154</td>\n",
       "    </tr>\n",
       "    <tr>\n",
       "      <th>2017-01-09</th>\n",
       "      <td>-1.9725</td>\n",
       "      <td>-1.079027</td>\n",
       "      <td>-1.023775</td>\n",
       "      <td>0.012247</td>\n",
       "      <td>-0.068144</td>\n",
       "      <td>-0.055897</td>\n",
       "    </tr>\n",
       "    <tr>\n",
       "      <th>2017-01-10</th>\n",
       "      <td>-0.3140</td>\n",
       "      <td>-0.181135</td>\n",
       "      <td>-0.158943</td>\n",
       "      <td>0.000314</td>\n",
       "      <td>-0.022536</td>\n",
       "      <td>-0.022222</td>\n",
       "    </tr>\n",
       "    <tr>\n",
       "      <th>2017-01-11</th>\n",
       "      <td>3.1305</td>\n",
       "      <td>1.586231</td>\n",
       "      <td>1.577979</td>\n",
       "      <td>0.031277</td>\n",
       "      <td>-0.022514</td>\n",
       "      <td>0.008763</td>\n",
       "    </tr>\n",
       "    <tr>\n",
       "      <th>2017-01-12</th>\n",
       "      <td>-1.8842</td>\n",
       "      <td>-0.998419</td>\n",
       "      <td>-0.986942</td>\n",
       "      <td>0.011173</td>\n",
       "      <td>-0.022886</td>\n",
       "      <td>-0.011713</td>\n",
       "    </tr>\n",
       "    <tr>\n",
       "      <th>2017-01-13</th>\n",
       "      <td>0.4514</td>\n",
       "      <td>0.208907</td>\n",
       "      <td>0.231012</td>\n",
       "      <td>0.000648</td>\n",
       "      <td>-0.022693</td>\n",
       "      <td>-0.022046</td>\n",
       "    </tr>\n",
       "    <tr>\n",
       "      <th>2017-01-17</th>\n",
       "      <td>-8.4001</td>\n",
       "      <td>-4.181965</td>\n",
       "      <td>-4.322033</td>\n",
       "      <td>0.224003</td>\n",
       "      <td>-0.091044</td>\n",
       "      <td>0.132959</td>\n",
       "    </tr>\n",
       "  </tbody>\n",
       "</table>\n",
       "</div>"
      ],
      "text/plain": [
       "            Stock_Price_Change  Option_Price_Change  Delta_Con  Gamma_Con  \\\n",
       "date                                                                        \n",
       "2017-01-03                 NaN                  NaN        NaN        NaN   \n",
       "2017-01-04              1.5309             0.748390   0.763415   0.007470   \n",
       "2017-01-05             -1.7762            -0.915060  -0.902807   0.009997   \n",
       "2017-01-06              3.5131             1.762028   1.745495   0.039438   \n",
       "2017-01-09             -1.9725            -1.079027  -1.023775   0.012247   \n",
       "2017-01-10             -0.3140            -0.181135  -0.158943   0.000314   \n",
       "2017-01-11              3.1305             1.586231   1.577979   0.031277   \n",
       "2017-01-12             -1.8842            -0.998419  -0.986942   0.011173   \n",
       "2017-01-13              0.4514             0.208907   0.231012   0.000648   \n",
       "2017-01-17             -8.4001            -4.181965  -4.322033   0.224003   \n",
       "\n",
       "            Theta_Con  After_hedge  \n",
       "date                                \n",
       "2017-01-03        NaN          NaN  \n",
       "2017-01-04  -0.022285    -0.014815  \n",
       "2017-01-05  -0.022486    -0.012490  \n",
       "2017-01-06  -0.022284     0.017154  \n",
       "2017-01-09  -0.068144    -0.055897  \n",
       "2017-01-10  -0.022536    -0.022222  \n",
       "2017-01-11  -0.022514     0.008763  \n",
       "2017-01-12  -0.022886    -0.011713  \n",
       "2017-01-13  -0.022693    -0.022046  \n",
       "2017-01-17  -0.091044     0.132959  "
      ]
     },
     "execution_count": 22,
     "metadata": {},
     "output_type": "execute_result"
    }
   ],
   "source": [
    "Others.head(10)"
   ]
  },
  {
   "cell_type": "code",
   "execution_count": 23,
   "metadata": {
    "collapsed": false
   },
   "outputs": [
    {
     "data": {
      "text/html": [
       "<div>\n",
       "<style scoped>\n",
       "    .dataframe tbody tr th:only-of-type {\n",
       "        vertical-align: middle;\n",
       "    }\n",
       "\n",
       "    .dataframe tbody tr th {\n",
       "        vertical-align: top;\n",
       "    }\n",
       "\n",
       "    .dataframe thead th {\n",
       "        text-align: right;\n",
       "    }\n",
       "</style>\n",
       "<table border=\"1\" class=\"dataframe\">\n",
       "  <thead>\n",
       "    <tr style=\"text-align: right;\">\n",
       "      <th></th>\n",
       "      <th>Stock_Price_Change</th>\n",
       "      <th>Option_Price_Change</th>\n",
       "      <th>Delta_Con</th>\n",
       "      <th>Gamma_Con</th>\n",
       "      <th>Theta_Con</th>\n",
       "      <th>After_hedge</th>\n",
       "    </tr>\n",
       "    <tr>\n",
       "      <th>date</th>\n",
       "      <th></th>\n",
       "      <th></th>\n",
       "      <th></th>\n",
       "      <th></th>\n",
       "      <th></th>\n",
       "      <th></th>\n",
       "    </tr>\n",
       "  </thead>\n",
       "  <tbody>\n",
       "    <tr>\n",
       "      <th>2018-08-06</th>\n",
       "      <td>1.84</td>\n",
       "      <td>0.280035</td>\n",
       "      <td>0.412882</td>\n",
       "      <td>0.026930</td>\n",
       "      <td>-0.147429</td>\n",
       "      <td>-0.120499</td>\n",
       "    </tr>\n",
       "    <tr>\n",
       "      <th>2018-08-07</th>\n",
       "      <td>1.90</td>\n",
       "      <td>0.444759</td>\n",
       "      <td>0.471276</td>\n",
       "      <td>0.030904</td>\n",
       "      <td>-0.053752</td>\n",
       "      <td>-0.022848</td>\n",
       "    </tr>\n",
       "    <tr>\n",
       "      <th>2018-08-08</th>\n",
       "      <td>-1.46</td>\n",
       "      <td>-0.443873</td>\n",
       "      <td>-0.407949</td>\n",
       "      <td>0.019411</td>\n",
       "      <td>-0.058184</td>\n",
       "      <td>-0.038773</td>\n",
       "    </tr>\n",
       "    <tr>\n",
       "      <th>2018-08-09</th>\n",
       "      <td>-2.59</td>\n",
       "      <td>-0.642289</td>\n",
       "      <td>-0.650312</td>\n",
       "      <td>0.058751</td>\n",
       "      <td>-0.055179</td>\n",
       "      <td>0.003572</td>\n",
       "    </tr>\n",
       "    <tr>\n",
       "      <th>2018-08-10</th>\n",
       "      <td>-4.17</td>\n",
       "      <td>-0.763884</td>\n",
       "      <td>-0.855877</td>\n",
       "      <td>0.138750</td>\n",
       "      <td>-0.049051</td>\n",
       "      <td>0.089699</td>\n",
       "    </tr>\n",
       "    <tr>\n",
       "      <th>2018-08-13</th>\n",
       "      <td>-2.75</td>\n",
       "      <td>-0.438073</td>\n",
       "      <td>-0.391096</td>\n",
       "      <td>0.049076</td>\n",
       "      <td>-0.115062</td>\n",
       "      <td>-0.065987</td>\n",
       "    </tr>\n",
       "    <tr>\n",
       "      <th>2018-08-14</th>\n",
       "      <td>2.70</td>\n",
       "      <td>0.279103</td>\n",
       "      <td>0.275280</td>\n",
       "      <td>0.039027</td>\n",
       "      <td>-0.030806</td>\n",
       "      <td>0.008221</td>\n",
       "    </tr>\n",
       "    <tr>\n",
       "      <th>2018-08-15</th>\n",
       "      <td>-0.31</td>\n",
       "      <td>-0.076748</td>\n",
       "      <td>-0.040611</td>\n",
       "      <td>0.000614</td>\n",
       "      <td>-0.037679</td>\n",
       "      <td>-0.037066</td>\n",
       "    </tr>\n",
       "    <tr>\n",
       "      <th>2018-08-16</th>\n",
       "      <td>3.75</td>\n",
       "      <td>0.513929</td>\n",
       "      <td>0.466321</td>\n",
       "      <td>0.087654</td>\n",
       "      <td>-0.036654</td>\n",
       "      <td>0.051000</td>\n",
       "    </tr>\n",
       "    <tr>\n",
       "      <th>2018-08-17</th>\n",
       "      <td>0.38</td>\n",
       "      <td>0.018874</td>\n",
       "      <td>0.066107</td>\n",
       "      <td>0.001121</td>\n",
       "      <td>-0.047248</td>\n",
       "      <td>-0.046127</td>\n",
       "    </tr>\n",
       "  </tbody>\n",
       "</table>\n",
       "</div>"
      ],
      "text/plain": [
       "            Stock_Price_Change  Option_Price_Change  Delta_Con  Gamma_Con  \\\n",
       "date                                                                        \n",
       "2018-08-06                1.84             0.280035   0.412882   0.026930   \n",
       "2018-08-07                1.90             0.444759   0.471276   0.030904   \n",
       "2018-08-08               -1.46            -0.443873  -0.407949   0.019411   \n",
       "2018-08-09               -2.59            -0.642289  -0.650312   0.058751   \n",
       "2018-08-10               -4.17            -0.763884  -0.855877   0.138750   \n",
       "2018-08-13               -2.75            -0.438073  -0.391096   0.049076   \n",
       "2018-08-14                2.70             0.279103   0.275280   0.039027   \n",
       "2018-08-15               -0.31            -0.076748  -0.040611   0.000614   \n",
       "2018-08-16                3.75             0.513929   0.466321   0.087654   \n",
       "2018-08-17                0.38             0.018874   0.066107   0.001121   \n",
       "\n",
       "            Theta_Con  After_hedge  \n",
       "date                                \n",
       "2018-08-06  -0.147429    -0.120499  \n",
       "2018-08-07  -0.053752    -0.022848  \n",
       "2018-08-08  -0.058184    -0.038773  \n",
       "2018-08-09  -0.055179     0.003572  \n",
       "2018-08-10  -0.049051     0.089699  \n",
       "2018-08-13  -0.115062    -0.065987  \n",
       "2018-08-14  -0.030806     0.008221  \n",
       "2018-08-15  -0.037679    -0.037066  \n",
       "2018-08-16  -0.036654     0.051000  \n",
       "2018-08-17  -0.047248    -0.046127  "
      ]
     },
     "execution_count": 23,
     "metadata": {},
     "output_type": "execute_result"
    }
   ],
   "source": [
    "Others.tail(10)"
   ]
  },
  {
   "cell_type": "code",
   "execution_count": 24,
   "metadata": {
    "collapsed": false
   },
   "outputs": [
    {
     "data": {
      "text/html": [
       "<div>\n",
       "<style scoped>\n",
       "    .dataframe tbody tr th:only-of-type {\n",
       "        vertical-align: middle;\n",
       "    }\n",
       "\n",
       "    .dataframe tbody tr th {\n",
       "        vertical-align: top;\n",
       "    }\n",
       "\n",
       "    .dataframe thead th {\n",
       "        text-align: right;\n",
       "    }\n",
       "</style>\n",
       "<table border=\"1\" class=\"dataframe\">\n",
       "  <thead>\n",
       "    <tr style=\"text-align: right;\">\n",
       "      <th></th>\n",
       "      <th>Stock_Price_Change</th>\n",
       "      <th>Option_Price_Change</th>\n",
       "      <th>Delta_Con</th>\n",
       "      <th>Gamma_Con</th>\n",
       "      <th>Theta_Con</th>\n",
       "      <th>After_hedge</th>\n",
       "    </tr>\n",
       "    <tr>\n",
       "      <th>date</th>\n",
       "      <th></th>\n",
       "      <th></th>\n",
       "      <th></th>\n",
       "      <th></th>\n",
       "      <th></th>\n",
       "      <th></th>\n",
       "    </tr>\n",
       "  </thead>\n",
       "  <tbody>\n",
       "    <tr>\n",
       "      <th>2017-01-17</th>\n",
       "      <td>-8.4001</td>\n",
       "      <td>-4.181965</td>\n",
       "      <td>-4.322033</td>\n",
       "      <td>0.224003</td>\n",
       "      <td>-0.091044</td>\n",
       "      <td>0.132959</td>\n",
       "    </tr>\n",
       "    <tr>\n",
       "      <th>2017-02-03</th>\n",
       "      <td>10.3432</td>\n",
       "      <td>4.700225</td>\n",
       "      <td>4.365873</td>\n",
       "      <td>0.359228</td>\n",
       "      <td>-0.021001</td>\n",
       "      <td>0.338226</td>\n",
       "    </tr>\n",
       "    <tr>\n",
       "      <th>2017-03-21</th>\n",
       "      <td>-8.9927</td>\n",
       "      <td>-4.211206</td>\n",
       "      <td>-4.465082</td>\n",
       "      <td>0.273309</td>\n",
       "      <td>-0.023712</td>\n",
       "      <td>0.249597</td>\n",
       "    </tr>\n",
       "    <tr>\n",
       "      <th>2017-04-18</th>\n",
       "      <td>-10.4981</td>\n",
       "      <td>-3.643815</td>\n",
       "      <td>-4.013617</td>\n",
       "      <td>0.391060</td>\n",
       "      <td>-0.021257</td>\n",
       "      <td>0.369802</td>\n",
       "    </tr>\n",
       "    <tr>\n",
       "      <th>2017-05-17</th>\n",
       "      <td>-11.6886</td>\n",
       "      <td>-3.859448</td>\n",
       "      <td>-4.330746</td>\n",
       "      <td>0.495145</td>\n",
       "      <td>-0.021500</td>\n",
       "      <td>0.473646</td>\n",
       "    </tr>\n",
       "    <tr>\n",
       "      <th>2017-05-31</th>\n",
       "      <td>-7.0684</td>\n",
       "      <td>-2.108597</td>\n",
       "      <td>-2.267775</td>\n",
       "      <td>0.179167</td>\n",
       "      <td>-0.019914</td>\n",
       "      <td>0.159254</td>\n",
       "    </tr>\n",
       "    <tr>\n",
       "      <th>2017-07-18</th>\n",
       "      <td>-5.8739</td>\n",
       "      <td>-2.161821</td>\n",
       "      <td>-2.272048</td>\n",
       "      <td>0.132717</td>\n",
       "      <td>-0.023663</td>\n",
       "      <td>0.109054</td>\n",
       "    </tr>\n",
       "    <tr>\n",
       "      <th>2017-08-04</th>\n",
       "      <td>5.7258</td>\n",
       "      <td>2.059624</td>\n",
       "      <td>1.956700</td>\n",
       "      <td>0.126256</td>\n",
       "      <td>-0.022440</td>\n",
       "      <td>0.103816</td>\n",
       "    </tr>\n",
       "    <tr>\n",
       "      <th>2017-09-05</th>\n",
       "      <td>-8.0237</td>\n",
       "      <td>-2.662891</td>\n",
       "      <td>-2.832707</td>\n",
       "      <td>0.256921</td>\n",
       "      <td>-0.095148</td>\n",
       "      <td>0.161774</td>\n",
       "    </tr>\n",
       "    <tr>\n",
       "      <th>2017-10-05</th>\n",
       "      <td>5.6958</td>\n",
       "      <td>2.734107</td>\n",
       "      <td>2.628644</td>\n",
       "      <td>0.135852</td>\n",
       "      <td>-0.028606</td>\n",
       "      <td>0.107246</td>\n",
       "    </tr>\n",
       "    <tr>\n",
       "      <th>2017-10-17</th>\n",
       "      <td>-6.2605</td>\n",
       "      <td>-2.844517</td>\n",
       "      <td>-2.983243</td>\n",
       "      <td>0.165955</td>\n",
       "      <td>-0.029465</td>\n",
       "      <td>0.136489</td>\n",
       "    </tr>\n",
       "    <tr>\n",
       "      <th>2017-10-18</th>\n",
       "      <td>5.8840</td>\n",
       "      <td>2.606857</td>\n",
       "      <td>2.488342</td>\n",
       "      <td>0.148167</td>\n",
       "      <td>-0.028013</td>\n",
       "      <td>0.120154</td>\n",
       "    </tr>\n",
       "    <tr>\n",
       "      <th>2017-11-30</th>\n",
       "      <td>6.2403</td>\n",
       "      <td>3.040815</td>\n",
       "      <td>2.898122</td>\n",
       "      <td>0.176157</td>\n",
       "      <td>-0.031183</td>\n",
       "      <td>0.144974</td>\n",
       "    </tr>\n",
       "    <tr>\n",
       "      <th>2017-12-12</th>\n",
       "      <td>7.5023</td>\n",
       "      <td>4.268761</td>\n",
       "      <td>4.056610</td>\n",
       "      <td>0.250338</td>\n",
       "      <td>-0.033300</td>\n",
       "      <td>0.217038</td>\n",
       "    </tr>\n",
       "    <tr>\n",
       "      <th>2017-12-21</th>\n",
       "      <td>5.7932</td>\n",
       "      <td>3.493926</td>\n",
       "      <td>3.384623</td>\n",
       "      <td>0.146045</td>\n",
       "      <td>-0.034158</td>\n",
       "      <td>0.111887</td>\n",
       "    </tr>\n",
       "    <tr>\n",
       "      <th>2018-02-02</th>\n",
       "      <td>-12.1131</td>\n",
       "      <td>-8.262973</td>\n",
       "      <td>-8.816598</td>\n",
       "      <td>0.552814</td>\n",
       "      <td>-0.034781</td>\n",
       "      <td>0.518033</td>\n",
       "    </tr>\n",
       "    <tr>\n",
       "      <th>2018-02-05</th>\n",
       "      <td>-10.8610</td>\n",
       "      <td>-6.372980</td>\n",
       "      <td>-6.815111</td>\n",
       "      <td>0.531464</td>\n",
       "      <td>-0.110427</td>\n",
       "      <td>0.421037</td>\n",
       "    </tr>\n",
       "    <tr>\n",
       "      <th>2018-02-06</th>\n",
       "      <td>9.5295</td>\n",
       "      <td>5.397445</td>\n",
       "      <td>4.992059</td>\n",
       "      <td>0.452304</td>\n",
       "      <td>-0.036572</td>\n",
       "      <td>0.415732</td>\n",
       "    </tr>\n",
       "    <tr>\n",
       "      <th>2018-02-08</th>\n",
       "      <td>-10.6821</td>\n",
       "      <td>-5.900823</td>\n",
       "      <td>-6.417601</td>\n",
       "      <td>0.536218</td>\n",
       "      <td>-0.037271</td>\n",
       "      <td>0.498947</td>\n",
       "    </tr>\n",
       "    <tr>\n",
       "      <th>2018-02-14</th>\n",
       "      <td>7.0055</td>\n",
       "      <td>4.298674</td>\n",
       "      <td>4.104466</td>\n",
       "      <td>0.237189</td>\n",
       "      <td>-0.037709</td>\n",
       "      <td>0.199480</td>\n",
       "    </tr>\n",
       "    <tr>\n",
       "      <th>2018-03-01</th>\n",
       "      <td>-6.1283</td>\n",
       "      <td>-3.926671</td>\n",
       "      <td>-4.063013</td>\n",
       "      <td>0.170502</td>\n",
       "      <td>-0.038275</td>\n",
       "      <td>0.132227</td>\n",
       "    </tr>\n",
       "    <tr>\n",
       "      <th>2018-03-22</th>\n",
       "      <td>-9.2174</td>\n",
       "      <td>-5.663881</td>\n",
       "      <td>-6.050641</td>\n",
       "      <td>0.410742</td>\n",
       "      <td>-0.040168</td>\n",
       "      <td>0.370574</td>\n",
       "    </tr>\n",
       "    <tr>\n",
       "      <th>2018-03-23</th>\n",
       "      <td>-7.3141</td>\n",
       "      <td>-3.856979</td>\n",
       "      <td>-4.110233</td>\n",
       "      <td>0.287978</td>\n",
       "      <td>-0.040812</td>\n",
       "      <td>0.247166</td>\n",
       "    </tr>\n",
       "    <tr>\n",
       "      <th>2018-03-26</th>\n",
       "      <td>9.5861</td>\n",
       "      <td>4.997032</td>\n",
       "      <td>4.611429</td>\n",
       "      <td>0.516471</td>\n",
       "      <td>-0.119026</td>\n",
       "      <td>0.397445</td>\n",
       "    </tr>\n",
       "    <tr>\n",
       "      <th>2018-03-27</th>\n",
       "      <td>-7.5931</td>\n",
       "      <td>-4.177459</td>\n",
       "      <td>-4.450940</td>\n",
       "      <td>0.307260</td>\n",
       "      <td>-0.041281</td>\n",
       "      <td>0.265979</td>\n",
       "    </tr>\n",
       "    <tr>\n",
       "      <th>2018-04-06</th>\n",
       "      <td>-5.8194</td>\n",
       "      <td>-3.325206</td>\n",
       "      <td>-3.470307</td>\n",
       "      <td>0.183666</td>\n",
       "      <td>-0.042309</td>\n",
       "      <td>0.141356</td>\n",
       "    </tr>\n",
       "    <tr>\n",
       "      <th>2018-04-12</th>\n",
       "      <td>6.6266</td>\n",
       "      <td>3.942153</td>\n",
       "      <td>3.741108</td>\n",
       "      <td>0.249077</td>\n",
       "      <td>-0.042966</td>\n",
       "      <td>0.206111</td>\n",
       "    </tr>\n",
       "    <tr>\n",
       "      <th>2018-05-29</th>\n",
       "      <td>-7.9519</td>\n",
       "      <td>-2.304178</td>\n",
       "      <td>-2.564935</td>\n",
       "      <td>0.407408</td>\n",
       "      <td>-0.162564</td>\n",
       "      <td>0.244844</td>\n",
       "    </tr>\n",
       "  </tbody>\n",
       "</table>\n",
       "</div>"
      ],
      "text/plain": [
       "            Stock_Price_Change  Option_Price_Change  Delta_Con  Gamma_Con  \\\n",
       "date                                                                        \n",
       "2017-01-17             -8.4001            -4.181965  -4.322033   0.224003   \n",
       "2017-02-03             10.3432             4.700225   4.365873   0.359228   \n",
       "2017-03-21             -8.9927            -4.211206  -4.465082   0.273309   \n",
       "2017-04-18            -10.4981            -3.643815  -4.013617   0.391060   \n",
       "2017-05-17            -11.6886            -3.859448  -4.330746   0.495145   \n",
       "2017-05-31             -7.0684            -2.108597  -2.267775   0.179167   \n",
       "2017-07-18             -5.8739            -2.161821  -2.272048   0.132717   \n",
       "2017-08-04              5.7258             2.059624   1.956700   0.126256   \n",
       "2017-09-05             -8.0237            -2.662891  -2.832707   0.256921   \n",
       "2017-10-05              5.6958             2.734107   2.628644   0.135852   \n",
       "2017-10-17             -6.2605            -2.844517  -2.983243   0.165955   \n",
       "2017-10-18              5.8840             2.606857   2.488342   0.148167   \n",
       "2017-11-30              6.2403             3.040815   2.898122   0.176157   \n",
       "2017-12-12              7.5023             4.268761   4.056610   0.250338   \n",
       "2017-12-21              5.7932             3.493926   3.384623   0.146045   \n",
       "2018-02-02            -12.1131            -8.262973  -8.816598   0.552814   \n",
       "2018-02-05            -10.8610            -6.372980  -6.815111   0.531464   \n",
       "2018-02-06              9.5295             5.397445   4.992059   0.452304   \n",
       "2018-02-08            -10.6821            -5.900823  -6.417601   0.536218   \n",
       "2018-02-14              7.0055             4.298674   4.104466   0.237189   \n",
       "2018-03-01             -6.1283            -3.926671  -4.063013   0.170502   \n",
       "2018-03-22             -9.2174            -5.663881  -6.050641   0.410742   \n",
       "2018-03-23             -7.3141            -3.856979  -4.110233   0.287978   \n",
       "2018-03-26              9.5861             4.997032   4.611429   0.516471   \n",
       "2018-03-27             -7.5931            -4.177459  -4.450940   0.307260   \n",
       "2018-04-06             -5.8194            -3.325206  -3.470307   0.183666   \n",
       "2018-04-12              6.6266             3.942153   3.741108   0.249077   \n",
       "2018-05-29             -7.9519            -2.304178  -2.564935   0.407408   \n",
       "\n",
       "            Theta_Con  After_hedge  \n",
       "date                                \n",
       "2017-01-17  -0.091044     0.132959  \n",
       "2017-02-03  -0.021001     0.338226  \n",
       "2017-03-21  -0.023712     0.249597  \n",
       "2017-04-18  -0.021257     0.369802  \n",
       "2017-05-17  -0.021500     0.473646  \n",
       "2017-05-31  -0.019914     0.159254  \n",
       "2017-07-18  -0.023663     0.109054  \n",
       "2017-08-04  -0.022440     0.103816  \n",
       "2017-09-05  -0.095148     0.161774  \n",
       "2017-10-05  -0.028606     0.107246  \n",
       "2017-10-17  -0.029465     0.136489  \n",
       "2017-10-18  -0.028013     0.120154  \n",
       "2017-11-30  -0.031183     0.144974  \n",
       "2017-12-12  -0.033300     0.217038  \n",
       "2017-12-21  -0.034158     0.111887  \n",
       "2018-02-02  -0.034781     0.518033  \n",
       "2018-02-05  -0.110427     0.421037  \n",
       "2018-02-06  -0.036572     0.415732  \n",
       "2018-02-08  -0.037271     0.498947  \n",
       "2018-02-14  -0.037709     0.199480  \n",
       "2018-03-01  -0.038275     0.132227  \n",
       "2018-03-22  -0.040168     0.370574  \n",
       "2018-03-23  -0.040812     0.247166  \n",
       "2018-03-26  -0.119026     0.397445  \n",
       "2018-03-27  -0.041281     0.265979  \n",
       "2018-04-06  -0.042309     0.141356  \n",
       "2018-04-12  -0.042966     0.206111  \n",
       "2018-05-29  -0.162564     0.244844  "
      ]
     },
     "execution_count": 24,
     "metadata": {},
     "output_type": "execute_result"
    }
   ],
   "source": [
    "Others.loc[Strategy.Portfolio.diff()>0.1,]"
   ]
  },
  {
   "cell_type": "markdown",
   "metadata": {},
   "source": [
    "#### Some interesting findings: "
   ]
  },
  {
   "cell_type": "markdown",
   "metadata": {},
   "source": [
    "1) Our Strategy PNL is almost totally explained by delta, gamma and theta. What's missing would be the other greeks we ignored, because they are also changing as time to maturity changes. "
   ]
  },
  {
   "cell_type": "code",
   "execution_count": 25,
   "metadata": {
    "collapsed": false
   },
   "outputs": [
    {
     "data": {
      "image/png": "[encoded data removed]",
      "text/plain": [
       "<Figure size 600x400 with 1 Axes>"
      ]
     },
     "metadata": {},
     "output_type": "display_data"
    }
   ],
   "source": [
    "plt.plot(list(range(len(Strategy))), Strategy.Portfolio, 'r', label = 'Portfolio')\n",
    "plt.plot(list(range(len(Strategy))), Others.After_hedge.cumsum(), 'b', label = 'Greeks Implied')\n",
    "plt.legend()\n",
    "plt.show()"
   ]
  },
  {
   "cell_type": "markdown",
   "metadata": {},
   "source": [
    "2) Theta is increasing at a really low speed and is almost constant, same as it's contribution. This is the amount that we are losing in the option price due to time decay. For a single stock option with our setup, every day we are giving away 0.2-0.4 dollar profit, this is quite a big amount. And remember, our setup is a very long-dated option, through our backtesting the time to maturity spans from 20 months to 2 months. Theta would be larger for short dated options, and this is also reflected in the data. Note that the frequent spikes are weekends, as they are also counted as time elapsed."
   ]
  },
  {
   "cell_type": "code",
   "execution_count": 26,
   "metadata": {
    "collapsed": false
   },
   "outputs": [
    {
     "data": {
      "image/png": "[encoded data removed]",
      "text/plain": [
       "<Figure size 600x400 with 1 Axes>"
      ]
     },
     "metadata": {},
     "output_type": "display_data"
    }
   ],
   "source": [
    "plt.plot(list(range(len(Strategy))), Others.Theta_Con, 'b', label = 'Theta Contribution')\n",
    "plt.plot(list(range(len(Strategy))), Greeks.Theta/365, 'r', label = 'Theta')\n",
    "plt.legend()\n",
    "plt.show()"
   ]
  },
  {
   "cell_type": "markdown",
   "metadata": {},
   "source": [
    "3) Similar to theta, the option or portfolio gamma is increasing at a low speed as well, but the gamma contribution to PNL is much more volatile than theta contribution. This is very easy to understand, as gamma contribution = gamma * (stock change)^2 / 2, so the key is how much stock price actually changed. Another interesting finding is, (stock price diff)^2 has been frequently regarded as volatility in mathematical finance, so gamma contribution is actually related to realized stock volatility."
   ]
  },
  {
   "cell_type": "code",
   "execution_count": 27,
   "metadata": {
    "collapsed": false
   },
   "outputs": [
    {
     "data": {
      "image/png": "[encoded data removed]",
      "text/plain": [
       "<Figure size 600x400 with 1 Axes>"
      ]
     },
     "metadata": {},
     "output_type": "display_data"
    }
   ],
   "source": [
    "plt.plot(list(range(len(Strategy))), Others.Gamma_Con / Others.Gamma_Con.max(), 'b', label = 'Gamma Contribution')\n",
    "plt.plot(list(range(len(Strategy))), Greeks.Gamma / Greeks.Gamma.max(), 'r', label = 'Gamma')\n",
    "plt.plot(list(range(len(Strategy))), Others.Stock_Price_Change ** 2 / (Others.Stock_Price_Change ** 2).max(),\\\n",
    "                                                 'g', label = 'Stock Price Change Squared')\n",
    "plt.legend()\n",
    "plt.show()"
   ]
  },
  {
   "cell_type": "markdown",
   "metadata": {},
   "source": [
    "Now, it seems \"gamma scalping\" or profitting from dynamically hedgin delta is really just betting against realized volatility, but hoping the realized volatility would be big enough to cover the theta losses for the time we waited. From this information, we can infer other guesses with this strategy. "
   ]
  },
  {
   "cell_type": "markdown",
   "metadata": {},
   "source": [
    "For the purpose of some parameter tweeking tests, I'll use an third party library to save some time of diddling the market object."
   ]
  },
  {
   "cell_type": "code",
   "execution_count": 28,
   "metadata": {
    "collapsed": true
   },
   "outputs": [],
   "source": [
    "import mibian"
   ]
  },
  {
   "cell_type": "markdown",
   "metadata": {},
   "source": [
    "Implied vol plays an important role of how this strategy performs. "
   ]
  },
  {
   "cell_type": "markdown",
   "metadata": {},
   "source": [
    "With the same stock time series, Gamma pnl depends only on gamma values, in other words, the larger gamma is, the more gamma pnl we will see. Obviously gamma depends on implied vol. Usually, with larger implied vol, we'll see smaller gamma according to the formula. A complete relationship looks like below. So, we can probably say, the more volatility has been priced in (throuh implied vol), the more realized volatility has to acheive in order to make gamma scalping profitable."
   ]
  },
  {
   "cell_type": "markdown",
   "metadata": {},
   "source": [
    "Opposite thing with Theta. Theta grows in absolute value with implied vol, which means with more implied vol, we lose more money due to time decay as we wait. Together we can see, higher implied volatility will hurt the performance of delta hedging strategy."
   ]
  },
  {
   "cell_type": "code",
   "execution_count": 29,
   "metadata": {
    "collapsed": false
   },
   "outputs": [],
   "source": [
    "test1 = {}\n",
    "test1['implied_vol'] = np.linspace(0.5, 50, 100)\n",
    "test1['gamma'] = [mibian.BS([100,100,1,365],iv).gamma for iv in test1['implied_vol']]\n",
    "test1['theta'] = [mibian.BS([100,100,1,365],iv).callTheta for iv in test1['implied_vol']]"
   ]
  },
  {
   "cell_type": "code",
   "execution_count": 30,
   "metadata": {
    "collapsed": false
   },
   "outputs": [
    {
     "data": {
      "image/png": "[encoded data removed]",
      "text/plain": [
       "<Figure size 600x400 with 1 Axes>"
      ]
     },
     "metadata": {},
     "output_type": "display_data"
    }
   ],
   "source": [
    "plt.plot(test1['implied_vol'], test1['gamma'], 'r', label = 'gamma')\n",
    "plt.plot(test1['implied_vol'], [-10*x for x in test1['theta']], 'b', label = 'negative theta')\n",
    "plt.legend()\n",
    "plt.show()"
   ]
  },
  {
   "cell_type": "markdown",
   "metadata": {},
   "source": [
    "To verify that, we run the whole analysis again with a 10% implied vol setup. We expect the strategy performance will be improved."
   ]
  },
  {
   "cell_type": "code",
   "execution_count": 31,
   "metadata": {
    "collapsed": false
   },
   "outputs": [
    {
     "name": "stdout",
     "output_type": "stream",
     "text": [
      "Over writing GS_IV!\n"
     ]
    }
   ],
   "source": [
    "iv = lambda x: 0.10\n",
    "for t in data.index:\n",
    "    t = pd.Timestamp(t)\n",
    "    implied_vol[t] = iv\n",
    "market.save_data(implied_vol, 'GS_IV', over_write = True)"
   ]
  },
  {
   "cell_type": "code",
   "execution_count": 32,
   "metadata": {
    "collapsed": true
   },
   "outputs": [],
   "source": [
    "Strategy2 = pd.DataFrame(np.NaN, index = data.index, \n",
    "                        columns = ['Option', 'Stock', 'Cash', 'Portfolio'])"
   ]
  },
  {
   "cell_type": "code",
   "execution_count": 33,
   "metadata": {
    "collapsed": true
   },
   "outputs": [],
   "source": [
    "Greeks2 = pd.DataFrame(np.NaN, index = data.index, \n",
    "                      columns = ['Price', 'Delta', 'Gamma','Theta'])\n",
    "for i, date_idx in enumerate(Greeks2.index):\n",
    "    Greeks2.iloc[i,:].Price = Option.dollar_price(date_idx)\n",
    "    Greeks2.iloc[i,:].Delta = Option.delta(date_idx)\n",
    "    Greeks2.iloc[i,:].Gamma = Option.gamma(date_idx)\n",
    "    Greeks2.iloc[i,:].Theta = Option.theta(date_idx)"
   ]
  },
  {
   "cell_type": "code",
   "execution_count": 34,
   "metadata": {
    "collapsed": true
   },
   "outputs": [],
   "source": [
    "for i, date_idx in enumerate(Strategy2.index):\n",
    "    \"\"\"\n",
    "    We maintain 1 unit long call, and apply dynamic hedging of delta for each day.\n",
    "    Assume on day 1 we have a 0 worth portfolio, financing any trade with cash.\n",
    "    \"\"\"\n",
    "    Strategy2.iloc[i,:].Option = Greeks2.loc[date_idx, 'Price']\n",
    "    hedge = - Greeks2.loc[date_idx, 'Delta']\n",
    "    Strategy2.iloc[i,:].Stock = hedge * Stock.spot(date_idx)\n",
    "    if i == 0:\n",
    "        Strategy2.iloc[i,:].Cash = 0 - Strategy2.iloc[i,:].Option - Strategy2.iloc[i,:].Stock\n",
    "    else:\n",
    "        Strategy2.iloc[i,:].Cash = Strategy2.iloc[i-1,:].Cash - \\\n",
    "                                    (hedge - (-Greeks2.iloc[i-1,:].Delta)) * Stock.spot(date_idx)\n",
    "    Strategy2.iloc[i,-1] = sum(Strategy2.iloc[i,:-1])"
   ]
  },
  {
   "cell_type": "code",
   "execution_count": 35,
   "metadata": {
    "collapsed": false
   },
   "outputs": [
    {
     "data": {
      "image/png": "[encoded data removed]",
      "text/plain": [
       "<Figure size 600x400 with 1 Axes>"
      ]
     },
     "metadata": {},
     "output_type": "display_data"
    }
   ],
   "source": [
    "plt.plot(range(len(Strategy)), Strategy.Portfolio, 'r', label = 'iv = 20%')\n",
    "plt.plot(range(len(Strategy)), Strategy2.Portfolio, 'b', label = 'iv = 10%')\n",
    "plt.legend()\n",
    "plt.show()"
   ]
  },
  {
   "cell_type": "markdown",
   "metadata": {},
   "source": [
    " As expected, performance increased a lot! Now we can pretty much say that gamma scalping is betting on realized volatility greater than the current market implied volatility, and the enemy of it is the theta or time decay."
   ]
  },
  {
   "cell_type": "markdown",
   "metadata": {},
   "source": [
    "In the above analysis, we assumed constant interest rate, dividend yield and implied volatility. In reality, interest rate and dividend yield should remain almost constant for stocks, so we are good with those assumptions, but implied volatility are known for moving around. (VIX is a good reflection of all that.) As result, the analysis above cannot represent how gamma scalping really works in the market, and I'll test that with real data in a separate exercise."
   ]
  }
 ],
 "metadata": {
  "kernelspec": {
   "display_name": "Python 3",
   "language": "python",
   "name": "python3"
  },
  "language_info": {
   "codemirror_mode": {
    "name": "ipython",
    "version": 3
   },
   "file_extension": ".py",
   "mimetype": "text/x-python",
   "name": "python",
   "nbconvert_exporter": "python",
   "pygments_lexer": "ipython3",
   "version": "3.5.5"
  }
 },
 "nbformat": 4,
 "nbformat_minor": 2
}
